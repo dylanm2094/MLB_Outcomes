{
 "cells": [
  {
   "cell_type": "code",
   "execution_count": 1,
   "metadata": {},
   "outputs": [],
   "source": [
    "import pandas as pd\n",
    "from sklearn import tree\n",
    "from sklearn.model_selection import train_test_split\n",
    "from sklearn.model_selection import GridSearchCV\n",
    "from sklearn.ensemble import RandomForestClassifier"
   ]
  },
  {
   "cell_type": "code",
   "execution_count": 2,
   "metadata": {},
   "outputs": [
    {
     "data": {
      "text/html": [
       "<div>\n",
       "<style scoped>\n",
       "    .dataframe tbody tr th:only-of-type {\n",
       "        vertical-align: middle;\n",
       "    }\n",
       "\n",
       "    .dataframe tbody tr th {\n",
       "        vertical-align: top;\n",
       "    }\n",
       "\n",
       "    .dataframe thead th {\n",
       "        text-align: right;\n",
       "    }\n",
       "</style>\n",
       "<table border=\"1\" class=\"dataframe\">\n",
       "  <thead>\n",
       "    <tr style=\"text-align: right;\">\n",
       "      <th></th>\n",
       "      <th>home</th>\n",
       "      <th>season_hits_for</th>\n",
       "      <th>season_hits_against</th>\n",
       "      <th>season_runs_for</th>\n",
       "      <th>season_runs_against</th>\n",
       "      <th>season_errors</th>\n",
       "      <th>season_wins</th>\n",
       "      <th>ml_odds</th>\n",
       "      <th>rl_odds</th>\n",
       "      <th>ml_win</th>\n",
       "      <th>rl_win</th>\n",
       "    </tr>\n",
       "  </thead>\n",
       "  <tbody>\n",
       "    <tr>\n",
       "      <th>0</th>\n",
       "      <td>1</td>\n",
       "      <td>0</td>\n",
       "      <td>0</td>\n",
       "      <td>0</td>\n",
       "      <td>0</td>\n",
       "      <td>0</td>\n",
       "      <td>0</td>\n",
       "      <td>110</td>\n",
       "      <td>-165</td>\n",
       "      <td>1</td>\n",
       "      <td>1</td>\n",
       "    </tr>\n",
       "    <tr>\n",
       "      <th>1</th>\n",
       "      <td>0</td>\n",
       "      <td>0</td>\n",
       "      <td>0</td>\n",
       "      <td>0</td>\n",
       "      <td>0</td>\n",
       "      <td>0</td>\n",
       "      <td>0</td>\n",
       "      <td>-120</td>\n",
       "      <td>145</td>\n",
       "      <td>0</td>\n",
       "      <td>0</td>\n",
       "    </tr>\n",
       "    <tr>\n",
       "      <th>2</th>\n",
       "      <td>1</td>\n",
       "      <td>0</td>\n",
       "      <td>0</td>\n",
       "      <td>0</td>\n",
       "      <td>0</td>\n",
       "      <td>0</td>\n",
       "      <td>0</td>\n",
       "      <td>-119</td>\n",
       "      <td>190</td>\n",
       "      <td>1</td>\n",
       "      <td>1</td>\n",
       "    </tr>\n",
       "    <tr>\n",
       "      <th>3</th>\n",
       "      <td>0</td>\n",
       "      <td>0</td>\n",
       "      <td>0</td>\n",
       "      <td>0</td>\n",
       "      <td>0</td>\n",
       "      <td>0</td>\n",
       "      <td>0</td>\n",
       "      <td>109</td>\n",
       "      <td>-230</td>\n",
       "      <td>0</td>\n",
       "      <td>0</td>\n",
       "    </tr>\n",
       "    <tr>\n",
       "      <th>4</th>\n",
       "      <td>1</td>\n",
       "      <td>0</td>\n",
       "      <td>0</td>\n",
       "      <td>0</td>\n",
       "      <td>0</td>\n",
       "      <td>0</td>\n",
       "      <td>0</td>\n",
       "      <td>-121</td>\n",
       "      <td>180</td>\n",
       "      <td>0</td>\n",
       "      <td>0</td>\n",
       "    </tr>\n",
       "    <tr>\n",
       "      <th>...</th>\n",
       "      <td>...</td>\n",
       "      <td>...</td>\n",
       "      <td>...</td>\n",
       "      <td>...</td>\n",
       "      <td>...</td>\n",
       "      <td>...</td>\n",
       "      <td>...</td>\n",
       "      <td>...</td>\n",
       "      <td>...</td>\n",
       "      <td>...</td>\n",
       "      <td>...</td>\n",
       "    </tr>\n",
       "    <tr>\n",
       "      <th>4921</th>\n",
       "      <td>1</td>\n",
       "      <td>716</td>\n",
       "      <td>590</td>\n",
       "      <td>410</td>\n",
       "      <td>262</td>\n",
       "      <td>53</td>\n",
       "      <td>61</td>\n",
       "      <td>-220</td>\n",
       "      <td>-101</td>\n",
       "      <td>1</td>\n",
       "      <td>0</td>\n",
       "    </tr>\n",
       "    <tr>\n",
       "      <th>4922</th>\n",
       "      <td>1</td>\n",
       "      <td>821</td>\n",
       "      <td>727</td>\n",
       "      <td>474</td>\n",
       "      <td>357</td>\n",
       "      <td>46</td>\n",
       "      <td>58</td>\n",
       "      <td>141</td>\n",
       "      <td>-131</td>\n",
       "      <td>0</td>\n",
       "      <td>0</td>\n",
       "    </tr>\n",
       "    <tr>\n",
       "      <th>4923</th>\n",
       "      <td>0</td>\n",
       "      <td>797</td>\n",
       "      <td>642</td>\n",
       "      <td>453</td>\n",
       "      <td>339</td>\n",
       "      <td>58</td>\n",
       "      <td>50</td>\n",
       "      <td>-156</td>\n",
       "      <td>111</td>\n",
       "      <td>1</td>\n",
       "      <td>1</td>\n",
       "    </tr>\n",
       "    <tr>\n",
       "      <th>4924</th>\n",
       "      <td>1</td>\n",
       "      <td>827</td>\n",
       "      <td>740</td>\n",
       "      <td>477</td>\n",
       "      <td>366</td>\n",
       "      <td>47</td>\n",
       "      <td>58</td>\n",
       "      <td>119</td>\n",
       "      <td>-162</td>\n",
       "      <td>0</td>\n",
       "      <td>0</td>\n",
       "    </tr>\n",
       "    <tr>\n",
       "      <th>4925</th>\n",
       "      <td>0</td>\n",
       "      <td>810</td>\n",
       "      <td>648</td>\n",
       "      <td>462</td>\n",
       "      <td>342</td>\n",
       "      <td>58</td>\n",
       "      <td>51</td>\n",
       "      <td>-134</td>\n",
       "      <td>142</td>\n",
       "      <td>1</td>\n",
       "      <td>0</td>\n",
       "    </tr>\n",
       "  </tbody>\n",
       "</table>\n",
       "<p>4926 rows × 11 columns</p>\n",
       "</div>"
      ],
      "text/plain": [
       "      home  season_hits_for  season_hits_against  season_runs_for  \\\n",
       "0        1                0                    0                0   \n",
       "1        0                0                    0                0   \n",
       "2        1                0                    0                0   \n",
       "3        0                0                    0                0   \n",
       "4        1                0                    0                0   \n",
       "...    ...              ...                  ...              ...   \n",
       "4921     1              716                  590              410   \n",
       "4922     1              821                  727              474   \n",
       "4923     0              797                  642              453   \n",
       "4924     1              827                  740              477   \n",
       "4925     0              810                  648              462   \n",
       "\n",
       "      season_runs_against  season_errors  season_wins  ml_odds  rl_odds  \\\n",
       "0                       0              0            0      110     -165   \n",
       "1                       0              0            0     -120      145   \n",
       "2                       0              0            0     -119      190   \n",
       "3                       0              0            0      109     -230   \n",
       "4                       0              0            0     -121      180   \n",
       "...                   ...            ...          ...      ...      ...   \n",
       "4921                  262             53           61     -220     -101   \n",
       "4922                  357             46           58      141     -131   \n",
       "4923                  339             58           50     -156      111   \n",
       "4924                  366             47           58      119     -162   \n",
       "4925                  342             58           51     -134      142   \n",
       "\n",
       "      ml_win  rl_win  \n",
       "0          1       1  \n",
       "1          0       0  \n",
       "2          1       1  \n",
       "3          0       0  \n",
       "4          0       0  \n",
       "...      ...     ...  \n",
       "4921       1       0  \n",
       "4922       0       0  \n",
       "4923       1       1  \n",
       "4924       0       0  \n",
       "4925       1       0  \n",
       "\n",
       "[4926 rows x 11 columns]"
      ]
     },
     "execution_count": 2,
     "metadata": {},
     "output_type": "execute_result"
    }
   ],
   "source": [
    "final_df = pd.read_csv('final_df.csv') \n",
    "cols = [0]\n",
    "final_df.drop(final_df.columns[cols],axis=1,inplace=True)\n",
    "final_df"
   ]
  },
  {
   "cell_type": "code",
   "execution_count": 3,
   "metadata": {},
   "outputs": [],
   "source": [
    "target = final_df[\"rl_win\"]\n",
    "# target = final_df[\"ml_win\"]\n",
    "target_names = [\"loss\", \"win\"]"
   ]
  },
  {
   "cell_type": "code",
   "execution_count": 4,
   "metadata": {},
   "outputs": [],
   "source": [
    "data = final_df.drop(columns=['ml_win', 'rl_win'],axis=1)\n",
    "feature_names = data.columns"
   ]
  },
  {
   "cell_type": "code",
   "execution_count": 5,
   "metadata": {},
   "outputs": [],
   "source": [
    "X_train, X_test, y_train, y_test = train_test_split(data, target, random_state=42)"
   ]
  },
  {
   "cell_type": "code",
   "execution_count": 6,
   "metadata": {},
   "outputs": [
    {
     "name": "stdout",
     "output_type": "stream",
     "text": [
      "Fitting 5 folds for each of 8 candidates, totalling 40 fits\n"
     ]
    },
    {
     "name": "stderr",
     "output_type": "stream",
     "text": [
      "[Parallel(n_jobs=-1)]: Using backend LokyBackend with 4 concurrent workers.\n",
      "[Parallel(n_jobs=-1)]: Done  40 out of  40 | elapsed:   15.4s finished\n"
     ]
    },
    {
     "data": {
      "text/plain": [
       "GridSearchCV(estimator=RandomForestClassifier(), n_jobs=-1,\n",
       "             param_grid={'criterion': ['gini', 'entropy'],\n",
       "                         'n_estimators': [50, 100, 150, 200]},\n",
       "             verbose=True)"
      ]
     },
     "execution_count": 6,
     "metadata": {},
     "output_type": "execute_result"
    }
   ],
   "source": [
    "param_grid = {\n",
    "    'n_estimators': [50,100,150,200],\n",
    "    'criterion': ['gini','entropy']\n",
    "}\n",
    "\n",
    "grid = GridSearchCV(RandomForestClassifier(), param_grid, verbose=True, n_jobs=-1)\n",
    "\n",
    "grid.fit(X_train, y_train)"
   ]
  },
  {
   "cell_type": "code",
   "execution_count": 7,
   "metadata": {},
   "outputs": [
    {
     "name": "stdout",
     "output_type": "stream",
     "text": [
      "{'criterion': 'entropy', 'n_estimators': 50}\n"
     ]
    }
   ],
   "source": [
    "print(grid.best_params_)"
   ]
  },
  {
   "cell_type": "code",
   "execution_count": 8,
   "metadata": {},
   "outputs": [
    {
     "data": {
      "text/plain": [
       "0.549512987012987"
      ]
     },
     "execution_count": 8,
     "metadata": {},
     "output_type": "execute_result"
    }
   ],
   "source": [
    "rf = RandomForestClassifier(n_estimators=50,criterion='entropy')\n",
    "rf = rf.fit(X_train, y_train)\n",
    "rf.score(X_test, y_test)"
   ]
  },
  {
   "cell_type": "code",
   "execution_count": 9,
   "metadata": {},
   "outputs": [
    {
     "data": {
      "text/plain": [
       "['rl_rf.joblib']"
      ]
     },
     "execution_count": 9,
     "metadata": {},
     "output_type": "execute_result"
    }
   ],
   "source": [
    "from joblib import dump\n",
    "dump(rf, 'rl_rf.joblib') "
   ]
  },
  {
   "cell_type": "code",
   "execution_count": 10,
   "metadata": {},
   "outputs": [],
   "source": [
    "from tensorflow.keras.utils import to_categorical\n",
    "y_train_categorical = to_categorical(y_train)\n",
    "y_test_categorical = to_categorical(y_test)"
   ]
  },
  {
   "cell_type": "code",
   "execution_count": 11,
   "metadata": {},
   "outputs": [],
   "source": [
    "from tensorflow.keras.models import Sequential\n",
    "from tensorflow.keras.layers import Dense\n",
    "\n",
    "deep_model = Sequential()\n",
    "deep_model.add(Dense(units=18, activation='relu', input_dim=9))\n",
    "deep_model.add(Dense(units=10, activation='relu'))\n",
    "deep_model.add(Dense(units=2, activation='softmax'))"
   ]
  },
  {
   "cell_type": "code",
   "execution_count": 12,
   "metadata": {},
   "outputs": [],
   "source": [
    "deep_model.compile(optimizer='adam',\n",
    "                   loss='categorical_crossentropy',\n",
    "                   metrics=['accuracy'])"
   ]
  },
  {
   "cell_type": "code",
   "execution_count": 13,
   "metadata": {},
   "outputs": [
    {
     "name": "stdout",
     "output_type": "stream",
     "text": [
      "WARNING:tensorflow:Falling back from v2 loop because of error: Failed to find data adapter that can handle input: <class 'pandas.core.frame.DataFrame'>, <class 'NoneType'>\n",
      "Train on 3694 samples\n",
      "Epoch 1/50\n",
      "3694/3694 - 1s - loss: 6.1050 - accuracy: 0.5682\n",
      "Epoch 2/50\n",
      "3694/3694 - 0s - loss: 3.9924 - accuracy: 0.5447\n",
      "Epoch 3/50\n",
      "3694/3694 - 0s - loss: 1.1589 - accuracy: 0.5181\n",
      "Epoch 4/50\n",
      "3694/3694 - 0s - loss: 0.7911 - accuracy: 0.5279\n",
      "Epoch 5/50\n",
      "3694/3694 - 0s - loss: 0.7617 - accuracy: 0.5284\n",
      "Epoch 6/50\n",
      "3694/3694 - 0s - loss: 0.7412 - accuracy: 0.5379\n",
      "Epoch 7/50\n",
      "3694/3694 - 0s - loss: 0.7313 - accuracy: 0.5409\n",
      "Epoch 8/50\n",
      "3694/3694 - 0s - loss: 0.7174 - accuracy: 0.5460\n",
      "Epoch 9/50\n",
      "3694/3694 - 0s - loss: 0.7079 - accuracy: 0.5417\n",
      "Epoch 10/50\n",
      "3694/3694 - 0s - loss: 0.7058 - accuracy: 0.5436\n",
      "Epoch 11/50\n",
      "3694/3694 - 0s - loss: 0.7001 - accuracy: 0.5455\n",
      "Epoch 12/50\n",
      "3694/3694 - 0s - loss: 0.6971 - accuracy: 0.5574\n",
      "Epoch 13/50\n",
      "3694/3694 - 0s - loss: 0.6904 - accuracy: 0.5604\n",
      "Epoch 14/50\n",
      "3694/3694 - 0s - loss: 0.6937 - accuracy: 0.5525\n",
      "Epoch 15/50\n",
      "3694/3694 - 0s - loss: 0.6899 - accuracy: 0.5574\n",
      "Epoch 16/50\n",
      "3694/3694 - 0s - loss: 0.6868 - accuracy: 0.5631\n",
      "Epoch 17/50\n",
      "3694/3694 - 0s - loss: 0.6872 - accuracy: 0.5647\n",
      "Epoch 18/50\n",
      "3694/3694 - 0s - loss: 0.6851 - accuracy: 0.5679\n",
      "Epoch 19/50\n",
      "3694/3694 - 0s - loss: 0.6871 - accuracy: 0.5628\n",
      "Epoch 20/50\n",
      "3694/3694 - 0s - loss: 0.6854 - accuracy: 0.5682\n",
      "Epoch 21/50\n",
      "3694/3694 - 0s - loss: 0.6847 - accuracy: 0.5647\n",
      "Epoch 22/50\n",
      "3694/3694 - 0s - loss: 0.6843 - accuracy: 0.5666\n",
      "Epoch 23/50\n",
      "3694/3694 - 0s - loss: 0.6810 - accuracy: 0.5707\n",
      "Epoch 24/50\n",
      "3694/3694 - 0s - loss: 0.6800 - accuracy: 0.5671\n",
      "Epoch 25/50\n",
      "3694/3694 - 0s - loss: 0.6821 - accuracy: 0.5677\n",
      "Epoch 26/50\n",
      "3694/3694 - 0s - loss: 0.6826 - accuracy: 0.5723\n",
      "Epoch 27/50\n",
      "3694/3694 - 0s - loss: 0.6815 - accuracy: 0.5679\n",
      "Epoch 28/50\n",
      "3694/3694 - 0s - loss: 0.6810 - accuracy: 0.5772\n",
      "Epoch 29/50\n",
      "3694/3694 - 0s - loss: 0.6805 - accuracy: 0.5688\n",
      "Epoch 30/50\n",
      "3694/3694 - 0s - loss: 0.6802 - accuracy: 0.5707\n",
      "Epoch 31/50\n",
      "3694/3694 - 0s - loss: 0.6807 - accuracy: 0.5720\n",
      "Epoch 32/50\n",
      "3694/3694 - 0s - loss: 0.6790 - accuracy: 0.5734\n",
      "Epoch 33/50\n",
      "3694/3694 - 0s - loss: 0.6804 - accuracy: 0.5709\n",
      "Epoch 34/50\n",
      "3694/3694 - 0s - loss: 0.6797 - accuracy: 0.5682\n",
      "Epoch 35/50\n",
      "3694/3694 - 0s - loss: 0.6786 - accuracy: 0.5742\n",
      "Epoch 36/50\n",
      "3694/3694 - 0s - loss: 0.6787 - accuracy: 0.5726\n",
      "Epoch 37/50\n",
      "3694/3694 - 0s - loss: 0.6785 - accuracy: 0.5682\n",
      "Epoch 38/50\n",
      "3694/3694 - 0s - loss: 0.6797 - accuracy: 0.5744\n",
      "Epoch 39/50\n",
      "3694/3694 - 0s - loss: 0.6798 - accuracy: 0.5698\n",
      "Epoch 40/50\n",
      "3694/3694 - 0s - loss: 0.6791 - accuracy: 0.5750\n",
      "Epoch 41/50\n",
      "3694/3694 - 0s - loss: 0.6779 - accuracy: 0.5726\n",
      "Epoch 42/50\n",
      "3694/3694 - 0s - loss: 0.6795 - accuracy: 0.5782\n",
      "Epoch 43/50\n",
      "3694/3694 - 0s - loss: 0.6785 - accuracy: 0.5739\n",
      "Epoch 44/50\n",
      "3694/3694 - 0s - loss: 0.6780 - accuracy: 0.5736\n",
      "Epoch 45/50\n",
      "3694/3694 - 0s - loss: 0.6781 - accuracy: 0.5755\n",
      "Epoch 46/50\n",
      "3694/3694 - 0s - loss: 0.6778 - accuracy: 0.5785\n",
      "Epoch 47/50\n",
      "3694/3694 - 0s - loss: 0.6780 - accuracy: 0.5761\n",
      "Epoch 48/50\n",
      "3694/3694 - 0s - loss: 0.6781 - accuracy: 0.5763\n",
      "Epoch 49/50\n",
      "3694/3694 - 0s - loss: 0.6783 - accuracy: 0.5742\n",
      "Epoch 50/50\n",
      "3694/3694 - 0s - loss: 0.6776 - accuracy: 0.5726\n"
     ]
    },
    {
     "data": {
      "text/plain": [
       "<tensorflow.python.keras.callbacks.History at 0x1a3b538f60>"
      ]
     },
     "execution_count": 13,
     "metadata": {},
     "output_type": "execute_result"
    }
   ],
   "source": [
    "deep_model.fit(\n",
    "    X_train,\n",
    "    y_train_categorical,\n",
    "    epochs=50,\n",
    "    shuffle=True,\n",
    "    verbose=2\n",
    ")"
   ]
  },
  {
   "cell_type": "code",
   "execution_count": 14,
   "metadata": {},
   "outputs": [
    {
     "name": "stdout",
     "output_type": "stream",
     "text": [
      "WARNING:tensorflow:Falling back from v2 loop because of error: Failed to find data adapter that can handle input: <class 'pandas.core.frame.DataFrame'>, <class 'NoneType'>\n",
      "1232/1232 - 0s - loss: 0.6812 - accuracy: 0.5714\n",
      "Deep Neural Network - Loss: 0.6812222623205805, Accuracy: 0.5714285969734192\n"
     ]
    }
   ],
   "source": [
    "model_loss, model_accuracy = deep_model.evaluate(\n",
    "    X_test, y_test_categorical, verbose=2)\n",
    "print(f\"Deep Neural Network - Loss: {model_loss}, Accuracy: {model_accuracy}\")"
   ]
  },
  {
   "cell_type": "code",
   "execution_count": 15,
   "metadata": {},
   "outputs": [],
   "source": [
    "def save_model(model):\n",
    "    # saving model\n",
    "    json_model = model.to_json()\n",
    "    open('rl_model_architecture.json', 'w').write(json_model)\n",
    "    # saving weights\n",
    "    model.save_weights('rl_model_weights.h5', overwrite=True)"
   ]
  },
  {
   "cell_type": "code",
   "execution_count": 16,
   "metadata": {},
   "outputs": [],
   "source": [
    "save_model(deep_model)"
   ]
  },
  {
   "cell_type": "code",
   "execution_count": null,
   "metadata": {},
   "outputs": [],
   "source": []
  }
 ],
 "metadata": {
  "kernelspec": {
   "display_name": "Python 3",
   "language": "python",
   "name": "python3"
  },
  "language_info": {
   "codemirror_mode": {
    "name": "ipython",
    "version": 3
   },
   "file_extension": ".py",
   "mimetype": "text/x-python",
   "name": "python",
   "nbconvert_exporter": "python",
   "pygments_lexer": "ipython3",
   "version": "3.6.10"
  }
 },
 "nbformat": 4,
 "nbformat_minor": 4
}
